{
 "cells": [
  {
   "cell_type": "markdown",
   "metadata": {},
   "source": [
    "# Run Manual Enrollment Sync between PowerCampus and WebCampus"
   ]
  },
  {
   "cell_type": "code",
   "execution_count": null,
   "metadata": {},
   "outputs": [],
   "source": [
    "import json\n",
    "import asyncio\n",
    "from mdlpipeline.sync.enrollments import *\n",
    "from mdlpipeline.utils.mdltools.mdl_connect import *\n",
    "from mdlpipeline.utils.mdltools.conduit import put_conduit_file\n",
    "from datetime import datetime\n",
    "import sched, time\n",
    "import asyncio"
   ]
  },
  {
   "cell_type": "markdown",
   "metadata": {},
   "source": [
    "#### Initialize SyncEnrollments and pull rosters "
   ]
  },
  {
   "cell_type": "code",
   "execution_count": null,
   "metadata": {
    "scrolled": true
   },
   "outputs": [],
   "source": [
    "with open('data/wc_pc_mapping_wi21.json', 'r') as f:\n",
    "    MAPPING_JSON = json.load(f)\n",
    "    \n",
    "se = await SyncEnrollments.pull(MAPPING_JSON)"
   ]
  },
  {
   "cell_type": "code",
   "execution_count": null,
   "metadata": {},
   "outputs": [],
   "source": [
    "# Rosters stored in folowing attributes\n",
    "#se.wc_rosters\n",
    "#se.pc_rosters"
   ]
  },
  {
   "cell_type": "markdown",
   "metadata": {},
   "source": [
    "#### Check Conduit DataFrame before push"
   ]
  },
  {
   "cell_type": "code",
   "execution_count": null,
   "metadata": {},
   "outputs": [],
   "source": [
    "se.conduit_dfs['enrollments']"
   ]
  },
  {
   "cell_type": "markdown",
   "metadata": {},
   "source": [
    "#### Log enrollment records and push to Conduit system"
   ]
  },
  {
   "cell_type": "code",
   "execution_count": null,
   "metadata": {},
   "outputs": [],
   "source": [
    "se.log_conduit()\n",
    "se.push_conduit()"
   ]
  },
  {
   "cell_type": "markdown",
   "metadata": {},
   "source": [
    "#### Non-academic pull"
   ]
  },
  {
   "cell_type": "code",
   "execution_count": null,
   "metadata": {},
   "outputs": [],
   "source": [
    "with open('data/non_academic_mapping.json', 'r') as f:\n",
    "    MAPPING_JSON = json.load(f)\n",
    "\n",
    "snae = await SyncNonAcademicEnrollments.pull(MAPPING_JSON)"
   ]
  },
  {
   "cell_type": "code",
   "execution_count": null,
   "metadata": {},
   "outputs": [],
   "source": [
    "snae.conduit_dfs['enrollments']"
   ]
  }
 ],
 "metadata": {
  "kernelspec": {
   "display_name": "pc-wc",
   "language": "python",
   "name": "dev"
  },
  "language_info": {
   "codemirror_mode": {
    "name": "ipython",
    "version": 3
   },
   "file_extension": ".py",
   "mimetype": "text/x-python",
   "name": "python",
   "nbconvert_exporter": "python",
   "pygments_lexer": "ipython3",
   "version": "3.8.3"
  }
 },
 "nbformat": 4,
 "nbformat_minor": 4
}
